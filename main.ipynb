{
 "cells": [
  {
   "cell_type": "code",
   "execution_count": 109,
   "metadata": {},
   "outputs": [],
   "source": [
    "import rospy\n",
    "import numpy as np\n",
    "import pinocchio as pin\n",
    "import time\n",
    "from sensor_msgs.msg import JointState\n",
    "from std_msgs.msg import Float64MultiArray, Int32MultiArray\n",
    "from trajectory_msgs.msg import JointTrajectory, JointTrajectoryPoint\n",
    "from std_msgs.msg import Duration"
   ]
  },
  {
   "cell_type": "code",
   "execution_count": 209,
   "metadata": {},
   "outputs": [],
   "source": [
    "class KinovaROS:\n",
    "    SET_CONFIG_KP = 0\n",
    "    SET_CONFIG_KI = 1\n",
    "    SET_CONFIG_GAMMA = 2\n",
    "    SET_CONFIG_POS_CTRL_MODE = 3\n",
    "    NORMAL_PID = 0\n",
    "    GRAVITY_COMPENSATION_ONLY = 1\n",
    "\n",
    "    def __init__(self, node, vel_limit):\n",
    "        self.node = node\n",
    "        self.vel_limit = vel_limit\n",
    "        self.joint_state = {}\n",
    "        self.robot_state = {}\n",
    "        self.joint_names = [f\"joint_{i+1}\" for i in range(7)]\n",
    "        \n",
    "        def joint_states_cb(msg):\n",
    "            self.joint_state[\"q\"] = np.array(msg.position)\n",
    "            self.joint_state[\"dq\"] = np.array(msg.velocity)\n",
    "        def robot_states_cb(msg):\n",
    "            self.robot_state[\"pos_ctrl_mode\"] = msg.data[0]\n",
    "            self.robot_state[\"is_traj_following\"] = msg.data[1]\n",
    "            self.robot_state[\"kp\"] = msg.data[2:9]\n",
    "            self.robot_state[\"ki\"] = msg.data[9:16]\n",
    "            self.robot_state[\"gamma\"] = msg.data[16:23]\n",
    "\n",
    "        self.joint_states_sub = rospy.Subscriber('/joint_state', JointState, joint_states_cb)\n",
    "        self.robot_states_sub = rospy.Subscriber('/robot_state', Float64MultiArray, robot_states_cb)\n",
    "        self.robot_config_pub = rospy.Publisher('/robot_config', Float64MultiArray, queue_size=1)\n",
    "        self.trajectory_pub = rospy.Publisher('/joint_traj', JointTrajectory, queue_size=1)\n",
    "        # self.joint_desired_pub = rospy.Publisher('/joint_state', JointState, queue_size=1)\n",
    "        # self.pos_ctrl_mode_pub = rospy.Publisher('/pos_ctrl_mode', Int32MultiArray, queue_size=1)\n",
    "    \n",
    "    def set_pos_ctrl_mode(self, mode):\n",
    "        msg = Float64MultiArray()\n",
    "        if mode == \"gravity\":\n",
    "            msg.data = [self.SET_CONFIG_POS_CTRL_MODE, self.GRAVITY_COMPENSATION_ONLY]\n",
    "        elif mode == \"pid\":\n",
    "            msg.data = [self.SET_CONFIG_POS_CTRL_MODE, self.NORMAL_PID]\n",
    "        self.robot_config_pub.publish(msg)\n",
    "    \n",
    "    def set_ctrl_gain(self, gaintype, gain):\n",
    "        assert len(gain) == 7\n",
    "        if gaintype == \"kp\":\n",
    "            config_enum = self.SET_CONFIG_KP\n",
    "        elif gaintype == \"ki\":\n",
    "            config_enum = self.SET_CONFIG_KI\n",
    "        elif gaintype == \"gamma\":\n",
    "            config_enum = self.SET_CONFIG_GAMMA\n",
    "        \n",
    "        self.set_pos_ctrl_mode(\"gravity\")\n",
    "        time.sleep(0.01)\n",
    "        msg = Float64MultiArray()\n",
    "        msg.data = [config_enum, *gain]\n",
    "        self.robot_config_pub.publish(msg)\n",
    "        time.sleep(0.01)\n",
    "        self.set_pos_ctrl_mode(\"pid\")\n",
    "        \n",
    "    \n",
    "    def set_waypoints(self, msg:JointTrajectory):\n",
    "        self.trajectory_pub.publish(msg)\n",
    "    \n",
    "    def generate_traj_msg(self, qs, last_timestep=None):\n",
    "        if last_timestep is None:\n",
    "            last_timestep = self.get_default_last_timestep(qs)\n",
    "            print(\"last_timestep: \", last_timestep)\n",
    "        num_step = len(qs)\n",
    "        timesteps = np.linspace(0, last_timestep,num_step)\n",
    "\n",
    "        waypoints = []\n",
    "        w_init = JointTrajectoryPoint()\n",
    "        w_init.positions = list(qs[0])\n",
    "        w_init.velocities = [0.]*7\n",
    "        w_init.time_from_start = w_init.time_from_start.from_sec(0.)\n",
    "\n",
    "        w_goal = JointTrajectoryPoint()\n",
    "        w_goal.positions = list(qs[-1])\n",
    "        w_goal.velocities = [0.]*7\n",
    "        w_goal.time_from_start = w_goal.time_from_start.from_sec(timesteps[-1])\n",
    "\n",
    "        waypoints = [w_init]\n",
    "        for i in range(1, len(timesteps)-1):\n",
    "            w = JointTrajectoryPoint()\n",
    "            w.positions = list(qs[i])\n",
    "            w.velocities = list((qs[i+1] - qs[i-1])/(timesteps[i+1] - timesteps[i-1]))\n",
    "            w.time_from_start = w.time_from_start.from_sec(timesteps[i])\n",
    "            waypoints.append(w)\n",
    "        waypoints.append(w_goal)\n",
    "\n",
    "        traj = JointTrajectory()\n",
    "        traj.points = waypoints\n",
    "        traj.joint_names = self.joint_names\n",
    "        return traj\n",
    "    \n",
    "    def get_default_last_timestep(self, qs, vel_const=0.3):\n",
    "        distance = 0\n",
    "        for i in range(len(qs)-1):\n",
    "            distance += np.linalg.norm(qs[i] - qs[i+1])\n",
    "        return distance/vel_const\n",
    "        \n",
    "    def goto(self, q_d, last_timestep=4):\n",
    "        q_curr = self.joint_state['q']\n",
    "        msg = self.generate_traj_msg([q_curr, q_d], last_timestep)\n",
    "        self.set_waypoints(msg)"
   ]
  },
  {
   "cell_type": "code",
   "execution_count": 3,
   "metadata": {},
   "outputs": [],
   "source": [
    "node = rospy.init_node('node1', anonymous=True)"
   ]
  },
  {
   "cell_type": "code",
   "execution_count": 211,
   "metadata": {},
   "outputs": [],
   "source": [
    "KINOVA_URDF_PATH = \"/home/pandacom/ws/kinova_joint_pid/robot_model/gen3_7dof/urdf/GEN3_URDF_V12_with_Hand_e_rev.urdf\"\n",
    "model    = pin.buildModelFromUrdf(KINOVA_URDF_PATH)\n",
    "data     = model.createData()\n",
    "robot = KinovaROS(node, model.velocityLimit)"
   ]
  },
  {
   "cell_type": "code",
   "execution_count": 214,
   "metadata": {},
   "outputs": [],
   "source": [
    "q1 = robot.joint_state[\"q\"]"
   ]
  },
  {
   "cell_type": "code",
   "execution_count": 216,
   "metadata": {},
   "outputs": [],
   "source": [
    "q2 = robot.joint_state[\"q\"]"
   ]
  },
  {
   "cell_type": "code",
   "execution_count": 215,
   "metadata": {},
   "outputs": [],
   "source": [
    "robot.set_pos_ctrl_mode('gravity')"
   ]
  },
  {
   "cell_type": "code",
   "execution_count": 42,
   "metadata": {},
   "outputs": [],
   "source": [
    "kp_curr = robot.robot_state[\"kp\"]"
   ]
  },
  {
   "cell_type": "code",
   "execution_count": null,
   "metadata": {},
   "outputs": [],
   "source": [
    "robot.get_default_last_timestep()"
   ]
  },
  {
   "cell_type": "code",
   "execution_count": 217,
   "metadata": {},
   "outputs": [
    {
     "name": "stdout",
     "output_type": "stream",
     "text": [
      "last_timestep:  4.25976839674024\n"
     ]
    }
   ],
   "source": [
    "qs = [q2, q1, q2]\n",
    "msg = robot.generate_traj_msg(qs)"
   ]
  },
  {
   "cell_type": "code",
   "execution_count": 218,
   "metadata": {},
   "outputs": [],
   "source": [
    "robot.set_waypoints(msg)"
   ]
  },
  {
   "cell_type": "code",
   "execution_count": 176,
   "metadata": {},
   "outputs": [],
   "source": [
    "robot.goto(q1, last_timestep=1.5)"
   ]
  },
  {
   "cell_type": "code",
   "execution_count": 204,
   "metadata": {},
   "outputs": [
    {
     "name": "stdout",
     "output_type": "stream",
     "text": [
      "2.294883764421756\n"
     ]
    }
   ],
   "source": []
  },
  {
   "cell_type": "code",
   "execution_count": 205,
   "metadata": {},
   "outputs": [],
   "source": [
    "traj = [q1,q2,q1]\n",
    "msg = robot.generate_traj_msg([q1,q2,q1], last_timestep=2.3)\n",
    "robot.set_waypoints(msg)"
   ]
  },
  {
   "cell_type": "code",
   "execution_count": 168,
   "metadata": {},
   "outputs": [],
   "source": [
    "# test gain.\n",
    "robot.set_ctrl_gain(\"kp\", [60, 60, 60, 60, 50, 50, 50])\n",
    "robot.set_ctrl_gain(\"ki\", [900,900,900,900,625,625,625])\n",
    "robot.set_ctrl_gain(\"gamma\", [0.1,0.1,0.1,0.1,0.2,0.2,0.2,])"
   ]
  },
  {
   "cell_type": "code",
   "execution_count": null,
   "metadata": {},
   "outputs": [],
   "source": [
    "robot.set_waypoints(traj)"
   ]
  },
  {
   "cell_type": "code",
   "execution_count": 145,
   "metadata": {},
   "outputs": [],
   "source": []
  }
 ],
 "metadata": {
  "kernelspec": {
   "display_name": "icra23_dual",
   "language": "python",
   "name": "python3"
  },
  "language_info": {
   "codemirror_mode": {
    "name": "ipython",
    "version": 3
   },
   "file_extension": ".py",
   "mimetype": "text/x-python",
   "name": "python",
   "nbconvert_exporter": "python",
   "pygments_lexer": "ipython3",
   "version": "3.8.17"
  },
  "orig_nbformat": 4
 },
 "nbformat": 4,
 "nbformat_minor": 2
}
